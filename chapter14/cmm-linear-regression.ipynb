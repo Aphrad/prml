{
 "cells": [
  {
   "cell_type": "markdown",
   "metadata": {},
   "source": [
    "# Conditional Mixture Models:\n",
    "## Linear Regression"
   ]
  },
  {
   "cell_type": "code",
   "execution_count": 4,
   "metadata": {},
   "outputs": [],
   "source": [
    "import numpy as np\n",
    "import matplotlib.pyplot as plt\n",
    "from numpy.random import randn, rand, seed"
   ]
  },
  {
   "cell_type": "code",
   "execution_count": 2,
   "metadata": {},
   "outputs": [],
   "source": [
    "%config InlineBackend.figure_format = \"retina\""
   ]
  },
  {
   "cell_type": "markdown",
   "metadata": {},
   "source": [
    "Consider $K$ linear regression models in the real line ($f_k: \\mathbb{R}^M\\to\\mathbb{R}$), each governed by its own weight vector ${\\bf w}_k$ and sharing the same precision parameter $\\beta$. To make a **mixture of linear regressions**, we consider a set of weighting coefficients $\\{\\pi_k\\}_k$ and a mixture distribution given by\n",
    "\n",
    "$$\n",
    "    p({\\bf t}\\vert \\boldsymbol\\theta,\\boldsymbol\\phi) = \\sum_{k=1}^K \\pi_k \\mathcal{N}(t_n\\vert{\\bf w}_k^T\\boldsymbol\\phi, \\beta^{-1})\n",
    "$$\n",
    "\n",
    "Where $\\boldsymbol\\theta=\\big\\{\\{{\\bf w}_k\\}_k, \\{\\pi_k\\}_k, \\beta\\big\\}$"
   ]
  },
  {
   "cell_type": "markdown",
   "metadata": {},
   "source": [
    "In order to find the values of $\\boldsymbol\\theta$, we make use of th EM algorithm by introducing latent variables ${\\bf Z}=\\{{\\bf z}_n\\}_n$. The EM algorithm then turns in finding the coefficients\n",
    "\n",
    "$$\n",
    "\\gamma_{nk} = \\frac{\\pi_k\\mathcal{N}(t_n\\vert{\\bf w}_k^T\\boldsymbol\\phi_n, \\beta^{-1})}{\\sum_j\\pi_j\\mathcal{N}(t_n\\vert{\\bf w}_j^T\\boldsymbol\\phi_n, \\beta^{-1})}\n",
    "$$\n",
    "\n",
    "for the **E-step**, and maximizing\n",
    "\n",
    "$$\n",
    "Q(\\boldsymbol\\theta, \\boldsymbol\\theta^{\\text{old}}) = \\sum_{n=1}^N\\sum_{k=1}^K \\gamma_{nk}\\big[\\log\\pi_k + \\log\\mathcal{N}(t_n\\vert{\\bf w}_k^T\\boldsymbol\\phi, \\beta^{-1})\\big]\n",
    "$$\n",
    "\n",
    "w.r.t. each component of $\\boldsymbol\\theta$ for the **M-step**."
   ]
  },
  {
   "cell_type": "markdown",
   "metadata": {},
   "source": [
    "The M-step results in the updating equations:\n",
    "\n",
    "$$\n",
    "\\pi_k^\\text{new} = \\frac{1}{N}\\sum_{n=1}^N\\gamma_{nk}\n",
    "$$\n",
    "\n",
    "$$\n",
    "{\\bf w}_k^\\text{new} = \\left(\\boldsymbol\\Phi^T R_k\\boldsymbol\\Phi\\right)^{-1}\\boldsymbol\\Phi R_k {\\bf t}\n",
    "$$\n",
    "\n",
    "$$\n",
    "\\frac{1}{\\beta^\\text{new}} = \\frac{1}{N}\\sum_{n=1}^N\\sum_{k=1}^K \\gamma_{nk}[t_n - {\\bf w}_k^T\\boldsymbol\\phi_n]\n",
    "$$"
   ]
  },
  {
   "cell_type": "markdown",
   "metadata": {},
   "source": [
    "## An example"
   ]
  },
  {
   "cell_type": "code",
   "execution_count": 9,
   "metadata": {},
   "outputs": [],
   "source": [
    "n_obs = 51\n",
    "xrange = np.linspace(-1, 1, n_obs) + rand(n_obs) * 0.1"
   ]
  },
  {
   "cell_type": "code",
   "execution_count": 16,
   "metadata": {},
   "outputs": [],
   "source": [
    "n_vals = n_obs // 3"
   ]
  },
  {
   "cell_type": "code",
   "execution_count": 35,
   "metadata": {},
   "outputs": [],
   "source": [
    "z = np.ones((n_obs, 2))\n",
    "z[n_vals: 2* n_vals, 0] = 0\n",
    "z[:, 1] = z[:, 1]- z[:, 0]"
   ]
  }
 ],
 "metadata": {
  "kernelspec": {
   "display_name": "Python 3",
   "language": "python",
   "name": "python3"
  },
  "language_info": {
   "codemirror_mode": {
    "name": "ipython",
    "version": 3
   },
   "file_extension": ".py",
   "mimetype": "text/x-python",
   "name": "python",
   "nbconvert_exporter": "python",
   "pygments_lexer": "ipython3",
   "version": "3.7.6"
  }
 },
 "nbformat": 4,
 "nbformat_minor": 4
}
